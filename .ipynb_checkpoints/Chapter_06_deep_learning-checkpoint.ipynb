{
 "cells": [
  {
   "cell_type": "markdown",
   "metadata": {},
   "source": [
    "# Chapter 6\n",
    "## Deep learning\n",
    "\n",
    "\n",
    "    Hand-in bug-free (try \"Kernel\" > \"Restart & Run All\") and including all (textual as well as figural) output via Blackboard before the deadline (see Blackboard).\n",
    "\n",
    "Learning goals:\n",
    "1. Get familiar with a state-of-the-art framework for deep learning\n",
    "1. Implement and run a convolutional neural network\n",
    "1. See what convolution does\n",
    "\n",
    "# Daniel Anthes s4767799\n",
    "\n",
    "# Edwin Wenink s4156072\n",
    "\n",
    "# Samarpan Rai s4753763"
   ]
  },
  {
   "cell_type": "code",
   "execution_count": 1,
   "metadata": {
    "collapsed": true
   },
   "outputs": [],
   "source": [
    "% matplotlib inline\n",
    "import matplotlib.pyplot as plt\n",
    "import numpy as np\n",
    "import chainer\n",
    "from chainer import cuda, Function, gradient_check, report, training, utils, Variable\n",
    "from chainer import datasets, iterators, optimizers, serializers\n",
    "from chainer import Link, Chain, ChainList\n",
    "import chainer.functions as F\n",
    "import chainer.links as L\n",
    "from chainer.training import extensions\n",
    "import os, json\n",
    "import scipy.signal as ss"
   ]
  },
  {
   "cell_type": "code",
   "execution_count": 2,
   "metadata": {
    "collapsed": true
   },
   "outputs": [],
   "source": [
    "mlp_output_folder = \"chainermlp/\"\n",
    "cnn_output_folder = \"chainercnn/\"\n",
    "\n",
    "def get_losses(output_folder):\n",
    "\n",
    "    with open(os.path.join(output_folder, \"log\")) as data_file:\n",
    "        data = json.load(data_file)\n",
    "\n",
    "    training_loss = map(lambda x: x[\"main/loss\"], data)\n",
    "    validation_loss = map(lambda x: x[\"validation/main/loss\"], data)\n",
    "    \n",
    "    return training_loss, validation_loss"
   ]
  },
  {
   "cell_type": "markdown",
   "metadata": {},
   "source": [
    "When working on a state-of-the-art neural network project you would rely on one of the various neural network frameworks that are available, instead of implementing core functionality by yourself. In this exercise you will work on implementing an MLP and a convolutional neural network in the Chainer framework. At the moment we use this framework for most of the work in our group as it is flexible and has quite intuitive and pythonic syntax.  \n",
    "\n",
    "Due to the popularity of deep learning various [Neural Network Frameworks](http://chainer.readthedocs.io/en/latest/comparison.html) exist, and it is unclear whether one of them will \"win\". Among those mentioned, Chainer and PyTorch (which is quite popular right now) have very similar syntax, and in fact PyTorch started as a fork from Chainer, reimplementing core functionality such as autograd in C++. This makes it faster, but less versatile. Google is developing and promoting the TensorFlow framework, which is fast for statically defined neural network flows. \n",
    "\n",
    "\n",
    "In this assignment you will follow a Chainer tutorial for implementing a standard multi-layer perceptron and a convolutional neural network. You will first copy the tutorial code and then make several adaptations. For a few steps you should consult the documentation or example code to check out how to implement them. "
   ]
  },
  {
   "cell_type": "markdown",
   "metadata": {},
   "source": [
    "### Exercise 1 (3 points)"
   ]
  },
  {
   "cell_type": "markdown",
   "metadata": {},
   "source": [
    "Read the tutorial at https://docs.chainer.org/en/stable/tutorial/basic.html. As you go along, transfer the code for the Multi-Layer Perceptron example on MNIST into the notebook (and try running it). Use the variant that makes use of the Trainer framework, i.e. you do not need to handle the gradients yourself. \n",
    "\n",
    "Change the MLP training code so that it is similar to the MLP we implemented in the MLP exercise, i.e. it should use: \n",
    "\n",
    "1. A single hidden layer of 16 units (that is, two weight layers)\n",
    "1. ReLU activation function\n",
    "1. Stochastic Gradient Descent with a learning rate of 0.001 as optimizer\n",
    "1. Training should do 50 iterations over the training set\n",
    "\n",
    "For **evaluating the model**, set up the `trainer` object as follows: \n",
    "1. When initializing the `trainer` object, set the output folder to be `mlp_output_folder`.\n",
    "1. Extend your `trainer` object with an `Evaluator` object that evaluates your `model` on the test set. \n",
    "1. Extend your `trainer` object with the `LogReport()` object. \n",
    "1. For printing the current model performance underneath the cell, extend the `trainer` object with a `PrintReport` object. Use the keys `\"epoch\"`, `\"main/accuracy\"`, `\"validation/main/accuracy\"`,  `\"main/loss\"` and `\"validation/main/loss\"`.\n",
    "1. For plotting the accuracy and losses over epochs, extend the `trainer` object with a `PlotReport` object. Use the same keys as for `PrintReport` except `\"epoch\"`. Set the file name to `mlp_plot.png`.\n",
    "\n",
    "Embed the generated `mlp_plot.png` underneath your code via `<img src='chainermlp/mlp_plot.png'>`. **Please additionally attach `mlp_plot.png` to your submission.**"
   ]
  },
  {
   "cell_type": "markdown",
   "metadata": {},
   "source": [
    "### Solution 1"
   ]
  },
  {
   "cell_type": "code",
   "execution_count": 3,
   "metadata": {},
   "outputs": [
    {
     "name": "stdout",
     "output_type": "stream",
     "text": [
      "Shape of a single example: (784,)\n"
     ]
    }
   ],
   "source": [
    "# Load the MNIST data set as 784-length vectors (default): \n",
    "train, test = datasets.get_mnist()\n",
    "print \"Shape of a single example:\", train[0][0].shape"
   ]
  },
  {
   "cell_type": "code",
   "execution_count": 4,
   "metadata": {
    "collapsed": true
   },
   "outputs": [],
   "source": [
    "# Your MLP, including output\n",
    "class MLP(Chain):\n",
    "    def __init__(self, n_units, n_out):\n",
    "        super(MLP, self).__init__()\n",
    "        with self.init_scope():\n",
    "            # the size of the inputs to each layer will be inferred\n",
    "            self.l1 = L.Linear(None, n_units)  # n_in -> n_units\n",
    "            self.l2 = L.Linear(None, n_units)  # n_units -> n_units\n",
    "            \n",
    "    def __call__(self, x):\n",
    "        h1 = F.relu(self.l1(x))\n",
    "        y = (self.l2(h1))\n",
    "        return y\n",
    "\n",
    "class Classifier(Chain):\n",
    "    def __init__(self, predictor):\n",
    "        super(Classifier, self).__init__()\n",
    "        with self.init_scope():\n",
    "            self.predictor = predictor\n",
    "    \n",
    "    def __call__(self, x, t):\n",
    "        y = self.predictor(x)\n",
    "        loss = F.softmax_cross_entropy(y, t)\n",
    "        accuracy = F.accuracy(y, t)\n",
    "        report({'loss': loss, 'accuracy': accuracy}, self)\n",
    "        return loss"
   ]
  },
  {
   "cell_type": "code",
   "execution_count": 5,
   "metadata": {},
   "outputs": [
    {
     "name": "stdout",
     "output_type": "stream",
     "text": [
      "epoch       main/accuracy  validation/main/accuracy  main/loss   validation/main/loss\n",
      "\u001b[J1           0.625567       0.82                      1.37097     0.74228               \n",
      "\u001b[J2           0.84455        0.8695                    0.614238    0.497907              \n",
      "\u001b[J3           0.87445        0.887                     0.469831    0.413144              \n",
      "\u001b[J4           0.887517       0.8965                    0.409824    0.373459              \n",
      "\u001b[J5           0.895567       0.902                     0.376646    0.348903              \n",
      "\u001b[J6           0.900317       0.9067                    0.354796    0.331725              \n",
      "\u001b[J7           0.9042         0.9087                    0.339059    0.320044              \n",
      "\u001b[J8           0.907367       0.9114                    0.326832    0.310417              \n",
      "\u001b[J9           0.9108         0.914                     0.316595    0.30237               \n",
      "\u001b[J10          0.9123         0.9157                    0.30814     0.295351              \n",
      "\u001b[J11          0.914983       0.9191                    0.300411    0.288843              \n",
      "\u001b[J12          0.916867       0.9209                    0.293458    0.28414               \n",
      "\u001b[J13          0.919083       0.9223                    0.287104    0.278583              \n",
      "\u001b[J14          0.920783       0.9226                    0.281298    0.273727              \n",
      "\u001b[J15          0.9223         0.9234                    0.276149    0.269185              \n",
      "\u001b[J16          0.923683       0.9265                    0.271423    0.266757              \n",
      "\u001b[J17          0.924983       0.9263                    0.267126    0.262308              \n",
      "\u001b[J18          0.926433       0.9275                    0.262801    0.259834              \n",
      "\u001b[J19          0.927033       0.927                     0.259262    0.256694              \n",
      "\u001b[J20          0.928317       0.9269                    0.25574     0.253271              \n",
      "\u001b[J21          0.928917       0.9286                    0.252314    0.251114              \n",
      "\u001b[J22          0.93           0.9295                    0.249181    0.248507              \n",
      "\u001b[J23          0.930333       0.9286                    0.246257    0.246218              \n",
      "\u001b[J24          0.9312         0.9308                    0.243446    0.244859              \n",
      "\u001b[J25          0.931883       0.9317                    0.240683    0.241957              \n",
      "\u001b[J26          0.9327         0.9309                    0.238075    0.241002              \n",
      "\u001b[J27          0.933333       0.9323                    0.23571     0.239107              \n",
      "\u001b[J28          0.93385        0.933                     0.233278    0.236711              \n",
      "\u001b[J29          0.934533       0.9323                    0.23124     0.234981              \n",
      "\u001b[J30          0.934817       0.9326                    0.228966    0.23523               \n",
      "\u001b[J31          0.93515        0.9326                    0.226942    0.231726              \n",
      "\u001b[J32          0.936283       0.934                     0.224994    0.230552              \n",
      "\u001b[J33          0.936617       0.9336                    0.223097    0.228865              \n",
      "\u001b[J34          0.936683       0.9344                    0.2212      0.227205              \n",
      "\u001b[J35          0.937483       0.9334                    0.219502    0.227419              \n",
      "\u001b[J36          0.937717       0.9355                    0.217925    0.225304              \n",
      "\u001b[J37          0.938033       0.934                     0.216246    0.22381               \n",
      "\u001b[J38          0.938517       0.9354                    0.21471     0.222992              \n",
      "\u001b[J39          0.938833       0.9353                    0.213215    0.221899              \n",
      "\u001b[J40          0.939183       0.9344                    0.211701    0.220505              \n",
      "\u001b[J41          0.940133       0.9349                    0.210327    0.219355              \n",
      "\u001b[J42          0.94025        0.9359                    0.208961    0.218486              \n",
      "\u001b[J43          0.94055        0.9364                    0.207533    0.217849              \n",
      "\u001b[J44          0.941067       0.9369                    0.206274    0.216629              \n",
      "\u001b[J45          0.941017       0.9373                    0.204866    0.2152                \n",
      "\u001b[J46          0.941783       0.9373                    0.203661    0.214172              \n",
      "\u001b[J47          0.942083       0.9377                    0.20248     0.213405              \n",
      "\u001b[J48          0.942383       0.9386                    0.20107     0.213279              \n",
      "\u001b[J49          0.942633       0.938                     0.200089    0.211857              \n",
      "\u001b[J50          0.943183       0.9391                    0.198945    0.210045              \n"
     ]
    }
   ],
   "source": [
    "train_iter = iterators.SerialIterator(train, batch_size=100, shuffle=True)\n",
    "test_iter = iterators.SerialIterator(test, batch_size=100, repeat=False, shuffle=False)\n",
    "\n",
    "model = L.Classifier(MLP(16, 10))  # the input size, 784, is inferred\n",
    "optimizer = optimizers.SGD()\n",
    "optimizer.setup(model)\n",
    "updater = training.StandardUpdater(train_iter, optimizer)\n",
    "trainer = training.Trainer(updater, (50, 'epoch'), out=mlp_output_folder)\n",
    "\n",
    "trainer.extend(extensions.Evaluator(test_iter, model))\n",
    "trainer.extend(extensions.LogReport(log_name='MLP.json'))\n",
    "trainer.extend(extensions.PrintReport(['epoch', 'main/accuracy', 'validation/main/accuracy','main/loss','validation/main/loss']))\n",
    "trainer.extend(extensions.PlotReport(['main/accuracy', 'validation/main/accuracy','main/loss','validation/main/loss'],file_name='mlp_plot.png'))\n",
    "trainer.run() "
   ]
  },
  {
   "cell_type": "markdown",
   "metadata": {},
   "source": [
    "<img src='chainermlp/mlp_plot.png'>"
   ]
  },
  {
   "cell_type": "markdown",
   "metadata": {},
   "source": [
    "### Exercise 2  (0.5 points)"
   ]
  },
  {
   "cell_type": "markdown",
   "metadata": {},
   "source": [
    "The input layer weights that the MLP has learned can be found in `model.predictor.l1.W.data`. Plot them below (as we did in the MLP and autoencoder exercises). "
   ]
  },
  {
   "cell_type": "markdown",
   "metadata": {},
   "source": [
    "### Solution 2"
   ]
  },
  {
   "cell_type": "code",
   "execution_count": 6,
   "metadata": {},
   "outputs": [
    {
     "name": "stdout",
     "output_type": "stream",
     "text": [
      "Layer 1:\n"
     ]
    },
    {
     "data": {
      "image/png": "[encoded data removed]",
      "text/plain": [
       "<matplotlib.figure.Figure at 0x7f72ee150210>"
      ]
     },
     "metadata": {},
     "output_type": "display_data"
    }
   ],
   "source": [
    "# Plot the weights\n",
    "W1 = model.predictor.l1.W.data\n",
    "nhidden1 = W1.shape[0]\n",
    "print(\"Layer 1:\")\n",
    "plt.figure(figsize=([8,10]))\n",
    "for i in range(nhidden1):    \n",
    "    plt.subplot(4,4,i+1)\n",
    "    fig = plt.imshow(W1[i, :].reshape((28,28)), cmap='gray')\n",
    "    fig.axes.get_xaxis().set_visible(False)\n",
    "    fig.axes.get_yaxis().set_visible(False)\n",
    "plt.show()"
   ]
  },
  {
   "cell_type": "markdown",
   "metadata": {},
   "source": [
    "### Exercise 3: Convolution with hand-made kernels (1 point)\n",
    "In convolutional neural networks we use a mathematical operator between two functions $f$ and $g$ called [*convolution*](https://en.wikipedia.org/wiki/Convolution). In terms of images, one could intuitively think of $f$ as an image, and $g$ as a filter kernel (i.e., a receptive field). For images we need to use 2D convolution: \n",
    "\n",
    "$$f(x, y) \\ast g(x, y) = \\sum^N_{i=-N}\\sum^N_{j=-N} f(x, y)g(x-i, y-j)$$\n",
    "\n",
    "Intuitively, the kernel $g$ is applied on all spatial locations of $f$. You could think of $g$ as having weights that represent how it singles out local input. Usually there are various of these filter kernels $g$, scanning the image for many possible features. \n",
    "\n",
    "In this exercise you will perform a simple convolution on an image. We first choose an image: "
   ]
  },
  {
   "cell_type": "code",
   "execution_count": 7,
   "metadata": {},
   "outputs": [
    {
     "data": {
      "text/plain": [
       "[]"
      ]
     },
     "execution_count": 7,
     "metadata": {},
     "output_type": "execute_result"
    },
    {
     "data": {
      "image/png": "[encoded data removed]",
      "text/plain": [
       "<matplotlib.figure.Figure at 0x7f72ee135f90>"
      ]
     },
     "metadata": {},
     "output_type": "display_data"
    }
   ],
   "source": [
    "image = train[2][0].reshape((28, 28))\n",
    "fig, ax = plt.subplots(1, 1, figsize=(4, 4))\n",
    "ax.imshow(image, cmap=\"gray\")\n",
    "ax.set_xticks([], []) ; ax.set_yticks([], [])"
   ]
  },
  {
   "cell_type": "markdown",
   "metadata": {},
   "source": [
    "1. Make four $3 \\times 3$ kernels. They should represent horizontal, vertical, and the two diagonal line feature detectors.\n",
    "1. Plot these kernels.\n",
    "1. Apply the kernels to the image, e.g. by using `convolved2d` from `scipy`.\n",
    "1. Plot the resulting feature activity map for each of the kernels. "
   ]
  },
  {
   "cell_type": "markdown",
   "metadata": {},
   "source": [
    "### Solution 3"
   ]
  },
  {
   "cell_type": "code",
   "execution_count": 8,
   "metadata": {},
   "outputs": [
    {
     "data": {
      "image/png": "[encoded data removed]",
      "text/plain": [
       "<matplotlib.figure.Figure at 0x7f72d2507cd0>"
      ]
     },
     "metadata": {},
     "output_type": "display_data"
    },
    {
     "data": {
      "image/png": "[encoded data removed]",
      "text/plain": [
       "<matplotlib.figure.Figure at 0x7f72d80f4ad0>"
      ]
     },
     "metadata": {},
     "output_type": "display_data"
    },
    {
     "data": {
      "image/png": "[encoded data removed]",
      "text/plain": [
       "<matplotlib.figure.Figure at 0x7f72d80f4f10>"
      ]
     },
     "metadata": {},
     "output_type": "display_data"
    },
    {
     "data": {
      "image/png": "[encoded data removed]",
      "text/plain": [
       "<matplotlib.figure.Figure at 0x7f72d2f2a6d0>"
      ]
     },
     "metadata": {},
     "output_type": "display_data"
    },
    {
     "data": {
      "image/png": "[encoded data removed]",
      "text/plain": [
       "<matplotlib.figure.Figure at 0x7f72d2f2a090>"
      ]
     },
     "metadata": {},
     "output_type": "display_data"
    },
    {
     "data": {
      "image/png": "[encoded data removed]",
      "text/plain": [
       "<matplotlib.figure.Figure at 0x7f72d1cb2650>"
      ]
     },
     "metadata": {},
     "output_type": "display_data"
    },
    {
     "data": {
      "image/png": "[encoded data removed]",
      "text/plain": [
       "<matplotlib.figure.Figure at 0x7f72d80e6950>"
      ]
     },
     "metadata": {},
     "output_type": "display_data"
    },
    {
     "data": {
      "image/png": "[encoded data removed]",
      "text/plain": [
       "<matplotlib.figure.Figure at 0x7f72d80ebb50>"
      ]
     },
     "metadata": {},
     "output_type": "display_data"
    }
   ],
   "source": [
    "# 1. Create kernels\n",
    "\n",
    "kernel_vertical = [ \n",
    "                    [-1.0,  2.0, -1.0], \n",
    "                    [-1.0,  2.0, -1.0], \n",
    "                    [-1.0,  2.0, -1.0] \n",
    "                    ]\n",
    "\n",
    "kernel_horizontal = [ \n",
    "                    [-1.0,  -1.0, -1.0], \n",
    "                    [2.0,  2.0, 2.0], \n",
    "                    [-1.0,  -1.0, -1.0] \n",
    "                    ]\n",
    "\n",
    "kernel_diagonal_NWtoSE = [\n",
    "                        [2.0, -1.0, -1.0], \n",
    "                        [-1.0,  2.0, -1.0], \n",
    "                        [-1.0, -1.0, 2.0] \n",
    "                        ]\n",
    "\n",
    "kernel_diagonal_SWtoNE = [\n",
    "                        [-1.0, -1.0, 2.0], \n",
    "                        [-1.0,  2.0, -1.0], \n",
    "                        [2.0, -1.0, -1.0] \n",
    "                        ]\n",
    "\n",
    "# 2. Plot kernels\n",
    "    ### Add your code here. ###\n",
    "\n",
    "plt.matshow(kernel_vertical,cmap=plt.cm.Greys)\n",
    "plt.title(\"Vertical kernel\")\n",
    "plt.show()\n",
    "\n",
    "vertical_convolution = ss.convolve2d(image, kernel_vertical)\n",
    "plt.imshow(vertical_convolution)\n",
    "plt.title(\"Vertical kernel Convolved\")\n",
    "plt.show()\n",
    "\n",
    "\n",
    "plt.matshow(kernel_horizontal,cmap=plt.cm.Greys)\n",
    "plt.title(\"Horizontal kernel\")\n",
    "plt.show()\n",
    "\n",
    "horizontal_convolution = ss.convolve2d(image, kernel_horizontal)\n",
    "plt.imshow(horizontal_convolution)\n",
    "plt.title(\"Horizontal kernel Convolved\")\n",
    "plt.show()\n",
    "\n",
    "plt.matshow(kernel_diagonal_NWtoSE,cmap=plt.cm.Greys)\n",
    "plt.title(\"Diagonal NWtoSE kernel\")\n",
    "plt.show()\n",
    "\n",
    "kernel_diagonal_NWtoSE_convolution = ss.convolve2d(image, kernel_diagonal_NWtoSE)\n",
    "plt.imshow(kernel_diagonal_NWtoSE_convolution)\n",
    "plt.title(\"Diagonal NWtoSE kernel Convolved\")\n",
    "plt.show()\n",
    "\n",
    "plt.matshow(kernel_diagonal_SWtoNE,cmap=plt.cm.Greys)\n",
    "plt.title( \"Diagonal SWtoNE kernel\")\n",
    "plt.show()\n",
    "\n",
    "kernel_diagonal_SWtoNE_convolution = ss.convolve2d(image, kernel_diagonal_SWtoNE)\n",
    "plt.imshow(kernel_diagonal_SWtoNE_convolution)\n",
    "plt.title( \"Diagonal SWtoNE kernel Convolved\")\n",
    "plt.show()\n"
   ]
  },
  {
   "cell_type": "markdown",
   "metadata": {},
   "source": [
    "### Exercise 4 (3 points)"
   ]
  },
  {
   "cell_type": "markdown",
   "metadata": {},
   "source": [
    "We want to train a convolutional neural network (CNN) next. Check [this project](https://github.com/vdumoulin/conv_arithmetic) to get intuition for the operations in convolutional neural network layers. \n",
    "\n",
    "\n",
    "1. Create `class CNN(Chain)` that should contain the new model. It will be similar to the `MLP` class, so you can start by copying the code of the MLP model class. \n",
    "1. The network should have one [2D-convolutional layer](https://docs.chainer.org/en/stable/reference/links.html). The first layer `conv1` should have 4x4 kernels, a stride of 1 and 10 output channels. As in the MLP, a second `Linear` layer should connect with the output units. \n",
    "1. Use ReLU activation functions on the convolutional layer activation.\n",
    "1. Add 2D max-pooling with a `(2,2)` pooling window after the convolutional layer. \n",
    "1. Copy the rest of the training code underneath and adapt it so that it uses your `CNN` model. Change the plot file name to `cnn_plot.png`. Run the model for 30 full iterations through the training set and embed `cnn_plot.png` as before. The output directory should be `cnn_output_folder` now. **Please additionally attach `cnn_plot.png` to your submission.**\n",
    "\n",
    "This will take a while to run. You can test the code by reducing the number of output channels of `conv1` first.  Usually you would train ConvNets on GPUs, which implement many of the linear algebra operations that are used here much more efficiently. "
   ]
  },
  {
   "cell_type": "code",
   "execution_count": 9,
   "metadata": {},
   "outputs": [
    {
     "name": "stdout",
     "output_type": "stream",
     "text": [
      "Shape of a single example: (1, 28, 28)\n"
     ]
    }
   ],
   "source": [
    "# Load the MNIST data set in shape 1x28x28-length (the 2D shape is necessary for the convolutional layer): \n",
    "train, test = datasets.get_mnist(ndim=3)\n",
    "print \"Shape of a single example:\", train[0][0].shape"
   ]
  },
  {
   "cell_type": "code",
   "execution_count": 10,
   "metadata": {
    "collapsed": true
   },
   "outputs": [],
   "source": [
    "class CNN(Chain):\n",
    "    def __init__(self, n_units, n_out):\n",
    "        super(CNN, self).__init__()\n",
    "        with self.init_scope():\n",
    "            # the size of the inputs to each layer will be inferred\n",
    "            self.l1 = L.Convolution2D(in_channels=None, #None -> n_unit\n",
    "                                      ksize=(4,4),\n",
    "                                      out_channels=n_units)\n",
    "            self.l2 = L.Linear(None, n_out)    # n_units -> n_out\n",
    "    \n",
    "    def __call__(self, x):\n",
    "        h1 = F.relu(self.l1(x))\n",
    "        maxpool = F.max_pooling_2d(h1,ksize=(2,2)) \n",
    "        y = self.l2(maxpool)\n",
    "        return y"
   ]
  },
  {
   "cell_type": "markdown",
   "metadata": {},
   "source": [
    "### Solution 4"
   ]
  },
  {
   "cell_type": "code",
   "execution_count": 11,
   "metadata": {},
   "outputs": [
    {
     "name": "stdout",
     "output_type": "stream",
     "text": [
      "epoch       main/accuracy  validation/main/accuracy  main/loss   validation/main/loss\n",
      "\u001b[J1           0.836317       0.9022                    0.652315    0.355458              \n",
      "\u001b[J2           0.900167       0.9155                    0.347219    0.3034                \n",
      "\u001b[J3           0.90945        0.9212                    0.312464    0.280853              \n",
      "\u001b[J4           0.91555        0.9246                    0.291615    0.269395              \n",
      "\u001b[J5           0.921383       0.9289                    0.274771    0.25297               \n",
      "\u001b[J6           0.925983       0.9314                    0.260165    0.239464              \n",
      "\u001b[J7           0.930117       0.9346                    0.245421    0.234172              \n",
      "\u001b[J8           0.93435        0.9401                    0.232243    0.215071              \n",
      "\u001b[J9           0.938483       0.9436                    0.219171    0.201946              \n",
      "\u001b[J10          0.941833       0.9448                    0.206922    0.195472              \n",
      "\u001b[J11          0.945333       0.9497                    0.195729    0.183752              \n",
      "\u001b[J12          0.948383       0.9529                    0.185214    0.172496              \n",
      "\u001b[J13          0.95125        0.9531                    0.175453    0.16569               \n",
      "\u001b[J14          0.954217       0.9574                    0.166061    0.156582              \n",
      "\u001b[J15          0.95675        0.9595                    0.157763    0.147331              \n",
      "\u001b[J16          0.959017       0.9611                    0.15038     0.140343              \n",
      "\u001b[J17          0.9612         0.9634                    0.143411    0.134478              \n",
      "\u001b[J18          0.962483       0.963                     0.137406    0.130695              \n",
      "\u001b[J19          0.96415        0.966                     0.131379    0.123894              \n",
      "\u001b[J20          0.965933       0.9665                    0.126163    0.118535              \n",
      "\u001b[J21          0.967083       0.9673                    0.121525    0.113964              \n",
      "\u001b[J22          0.968433       0.9688                    0.117246    0.111648              \n",
      "\u001b[J23          0.969783       0.9694                    0.112995    0.106435              \n",
      "\u001b[J24          0.97065        0.9704                    0.10952     0.104386              \n",
      "\u001b[J25          0.971517       0.9716                    0.106173    0.0999715             \n",
      "\u001b[J26          0.972483       0.9719                    0.102917    0.0985935             \n",
      "\u001b[J27          0.9734         0.9725                    0.100243    0.094428              \n",
      "\u001b[J28          0.973467       0.9726                    0.0974167   0.092618              \n",
      "\u001b[J29          0.974467       0.9736                    0.0950449   0.0912241             \n",
      "\u001b[J30          0.975183       0.9741                    0.0927231   0.0885786             \n"
     ]
    }
   ],
   "source": [
    "# Your CNN, including output\n",
    "train_iter = iterators.SerialIterator(train, batch_size=100, shuffle=True)\n",
    "test_iter = iterators.SerialIterator(test, batch_size=100, repeat=False, shuffle=False)\n",
    "\n",
    "model = L.Classifier(CNN(10, 10))  # the input size, 784, is inferred\n",
    "optimizer = optimizers.SGD()\n",
    "optimizer.setup(model)\n",
    "updater = training.StandardUpdater(train_iter, optimizer)\n",
    "trainer = training.Trainer(updater, (30, 'epoch'), out=cnn_output_folder)\n",
    "\n",
    "trainer.extend(extensions.Evaluator(test_iter, model))\n",
    "trainer.extend(extensions.LogReport())\n",
    "trainer.extend(extensions.PrintReport(['epoch', 'main/accuracy', 'validation/main/accuracy','main/loss','validation/main/loss']))\n",
    "trainer.extend(extensions.PlotReport(['main/accuracy', 'validation/main/accuracy','main/loss','validation/main/loss']\n",
    "                                     ,file_name='cnn_plot.png'))\n",
    "trainer.run() "
   ]
  },
  {
   "cell_type": "markdown",
   "metadata": {},
   "source": [
    "<img src='chainercnn/cnn_plot.png'>"
   ]
  },
  {
   "cell_type": "markdown",
   "metadata": {},
   "source": [
    "### Exercise 5 (0.5 points)\n",
    "The input layer weights that the ConvNet has learned can be found in `model.predictor.conv1.W.data`. Plot them below (as we did in the MLP and autoencoder exercises)."
   ]
  },
  {
   "cell_type": "markdown",
   "metadata": {},
   "source": [
    "### Solution 5"
   ]
  },
  {
   "cell_type": "code",
   "execution_count": 12,
   "metadata": {},
   "outputs": [
    {
     "name": "stdout",
     "output_type": "stream",
     "text": [
      "Layer 1:\n"
     ]
    },
    {
     "data": {
      "image/png": "[encoded data removed]",
      "text/plain": [
       "<matplotlib.figure.Figure at 0x7f72d382a890>"
      ]
     },
     "metadata": {},
     "output_type": "display_data"
    }
   ],
   "source": [
    "# Plot the weights\n",
    "W1 = model.predictor.l1.W.data\n",
    "nhidden1 = W1.shape[0]\n",
    "print(\"Layer 1:\")\n",
    "\n",
    "plt.figure(figsize=([8,10]))\n",
    "for i in range(nhidden1):    \n",
    "    plt.subplot(5,2,i+1)\n",
    "    fig = plt.imshow(W1[i, :].reshape((4,4)), cmap='gray')\n",
    "    fig.axes.get_xaxis().set_visible(False)\n",
    "    fig.axes.get_yaxis().set_visible(False)\n",
    "plt.show()"
   ]
  },
  {
   "cell_type": "markdown",
   "metadata": {},
   "source": [
    "### Exercise 6 (2 points)\n",
    "1. Which of the two models performed better for classifying MNIST digits in this example? Compare speed of training and test set accuracy. \n",
    "\n",
    "1. The main difference of the models is the type of the first layer. What leads to the success of the first layer of the better-performing model? \n",
    "\n",
    "1. Explain ways in which the convolution operation and the resulting feature maps are biologically plausible (1 way) and biologically implausible (1 way). "
   ]
  },
  {
   "cell_type": "markdown",
   "metadata": {},
   "source": [
    "### Solution 6\n",
    "\n",
    "1. The CNN performs better with a final accuracy on the validation set of 97,7%, against the accuracy of 94,3% of the MLP (after the final round of training/testing). However, we also see that whereas the MLP needed 68 seconds for 50 epochs with 30000 iterations, the CNN needed 539 seconds with less epochs and iterations. The CNN is thus significantly slower than the MLP. This is the data of the MLP:\n",
    "        \"main/loss\": 0.2014163351431489,\n",
    "        \"validation/main/loss\": 0.20756254973821342,\n",
    "        \"iteration\": 30000,\n",
    "        \"elapsed_time\": 67.65851902961731,\n",
    "        \"epoch\": 50,\n",
    "        \"main/accuracy\": 0.943283334771792,\n",
    "        \"validation/main/accuracy\": 0.9426000022888184\n",
    "    This is the data of the CNN: \n",
    "        \"main/loss\": 0.0849127883805583,\n",
    "        \"validation/main/loss\": 0.0823637783806771,\n",
    "        \"iteration\": 18000,\n",
    "        \"elapsed_time\": 538.8375871181488,\n",
    "        \"epoch\": 30,\n",
    "        \"main/accuracy\": 0.9773833439747492,\n",
    "        \"validation/main/accuracy\": 0.9769000065326691\n",
    "2. The convolution layer improves performance because it is able to pick up on defining features. In classifying a picture of the number '4' the CNN outperforms the MLP with linear layers because the character '4' is best defined by general features: a series of horizontal, diagonal and vertical stripes. In other words, a more \"holistic\" approach is taken than with only linear activation functions, where pattern detection is not done on \"feature\" level but on the level of pixels.\n",
    "3. The convolution operation is biologically plausible because it mirrors how the brain processes input: in an incremental manner, while stepwise extracting more general patterns from the input in previous layers. For example the well-known Pandemonium model proposes this view. This extracting of features is precisely what a convolutional layer does. In particular with respect to the processing of visual input, this layered processing is well studied. Initially simple activations due to light on the retina are the input, but in a further stage of processing cells are not simply activated anymore by simple inputs but by \"columns\" of light, which are also more independent of the location of the individual input components. That is, they are sensitive to more general \"features\" in the input. This is mirrored in the kernels of the CNN. The convolution approach is biologically implausible because the steps in a convolutional network are explicitly pre-designed to tailor a particular problem, e.g. in the design or kernels, or types of pooling. It makes CNN's way less flexible than biological networks. In addition, the number of connections and nodes in the CNN remains fixed after being chosen once when defining the network (and possibly by the shape of the first training input). After this learning only occurs by means of changing weights in the network. Biological networks are much more flexible than that: new neurons extend the network (neurogenesis) and synaptic pruning can remove connections altogether."
   ]
  },
  {
   "cell_type": "markdown",
   "metadata": {},
   "source": [
    "You can play around further with your code for this assignment by replacing the MNIST dataset with a more interesting / difficult to solve data set. For instance, you could use: \n",
    "\n",
    "`chainer.datasets.get_cifar10()`  ([CIFAR-10](https://www.cs.toronto.edu/~kriz/cifar.html) - photos of 10 natural object classes)\n",
    "\n",
    "and \n",
    "\n",
    "`chainer.datasets.get_svhn()`  ([SVHN](http://ufldl.stanford.edu/housenumbers/) - house numbers from Google StreetView)"
   ]
  },
  {
   "cell_type": "code",
   "execution_count": null,
   "metadata": {
    "collapsed": true
   },
   "outputs": [],
   "source": []
  }
 ],
 "metadata": {
  "anaconda-cloud": {},
  "kernelspec": {
   "display_name": "Python 2",
   "language": "python",
   "name": "python2"
  },
  "language_info": {
   "codemirror_mode": {
    "name": "ipython",
    "version": 2
   },
   "file_extension": ".py",
   "mimetype": "text/x-python",
   "name": "python",
   "nbconvert_exporter": "python",
   "pygments_lexer": "ipython2",
   "version": "2.7.13"
  }
 },
 "nbformat": 4,
 "nbformat_minor": 2
}
