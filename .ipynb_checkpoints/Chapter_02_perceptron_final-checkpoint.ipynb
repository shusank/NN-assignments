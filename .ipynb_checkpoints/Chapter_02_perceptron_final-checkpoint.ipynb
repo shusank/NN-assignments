{
 "cells": [
  {
   "cell_type": "markdown",
   "metadata": {},
   "source": [
    "# Chapter 2\n",
    "## The perceptron\n",
    "\n",
    "Edwin Wenink s4156072\n",
    "\n",
    "Daniel Anthes s4767799\n",
    "\n",
    "Samarpan Rai s4753763\n",
    "\n",
    "    Hand-in bug-free (try \"Kernel\" > \"Restart & Run All\") and including all (textual as well as figural) output via Blackboard before the deadline (see Blackboard).\n",
    "    \n",
    "Learning goals:\n",
    "1. Implement a perceptron. "
   ]
  },
  {
   "cell_type": "code",
   "execution_count": 37,
   "metadata": {
    "collapsed": true
   },
   "outputs": [],
   "source": [
    "%matplotlib inline\n",
    "import matplotlib.pyplot as plt\n",
    "import numpy as np"
   ]
  },
  {
   "cell_type": "markdown",
   "metadata": {},
   "source": [
    "### Exercise 1: The activation function (1 point)\n",
    "The perceptron uses the *linear threshold activation* function $g(\\mathbf{x})$ with $\\theta=0$. Write a function ```linear_threshold(x, theta)``` that computes this activation given any input $x$."
   ]
  },
  {
   "cell_type": "markdown",
   "metadata": {},
   "source": [
    "### Solution 1"
   ]
  },
  {
   "cell_type": "code",
   "execution_count": 38,
   "metadata": {
    "collapsed": true
   },
   "outputs": [],
   "source": [
    "# The activation function\n",
    "\n",
    "# input x\n",
    "# threshold theta\n",
    "def linearThreshold(x,theta=0):\n",
    "    if x<theta:\n",
    "        return 0\n",
    "    else:\n",
    "        return 1\n"
   ]
  },
  {
   "cell_type": "markdown",
   "metadata": {},
   "source": [
    "### Exercise 2: Perceptron output (1 point)\n",
    "The output $y$ of a perceptron is given by $y=g(\\mathbf{w}^\\top \\mathbf{x})$, with input vector $\\mathbf{x}$, the weight vector $\\mathbf{w}$, and the activation function $g$. Write a function ```compute_output(x,w)``` that computes the output of a perceptron, given a single pattern $\\mathbf{x}$ and the current perceptron weights $\\mathbf{w}$."
   ]
  },
  {
   "cell_type": "markdown",
   "metadata": {},
   "source": [
    "### Solution 2"
   ]
  },
  {
   "cell_type": "code",
   "execution_count": 39,
   "metadata": {
    "collapsed": true
   },
   "outputs": [],
   "source": [
    "# Output of a perceptron\n",
    "\n",
    "def compute_output(x,w):  \n",
    "    activation_input = np.dot(x,w)\n",
    "    return linearThreshold(activation_input)\n",
    "    "
   ]
  },
  {
   "cell_type": "markdown",
   "metadata": {},
   "source": [
    "### Exercise 3: Weight update (1 point)\n",
    "A perceptron is trained (i.e. it learns the right weights) following the perceptron convergence procedure. Write a function ```update_weights(w, x, y, t)``` that performs this procedure. Specifically, write a function that returns the updated perceptron weights following the rule from the lecture, given one input pattern $\\mathbf{x}$, its target output $\\mathbf{t}$, the current set of weights $\\mathbf{w}$ and the (already calculated) output of the perceptron $\\mathbf{y}$. \n",
    "\n",
    "You don't need to calculate the perceptron output $\\mathbf{y}$ here, it will be calculated in the final perceptron training function with your ```compute_output()``` function. \n",
    "\n",
    "Hint: This is a very short function again. "
   ]
  },
  {
   "cell_type": "markdown",
   "metadata": {},
   "source": [
    "### Solution 3"
   ]
  },
  {
   "cell_type": "code",
   "execution_count": 40,
   "metadata": {
    "collapsed": true
   },
   "outputs": [],
   "source": [
    "# Perceptron weight update\n",
    "\n",
    "# w weights\n",
    "# x input vector\n",
    "# y output vector\n",
    "# t target vector\n",
    "def update_weights(w,x,y,t):  \n",
    "    diff = np.subtract(t,y)\n",
    "    return np.add(w,np.multiply(diff,x)) "
   ]
  },
  {
   "cell_type": "markdown",
   "metadata": {},
   "source": [
    "### Exercise 4: Training (1.5 points)\n",
    "You now have implemented all the building blocks for a perceptron. Now, write a function ```perceptron_train(X, T, num_epochs)``` that trains and returns weights $\\mathbf{w}$ for a perceptron, given a dataset $\\mathbf{X}$ and targets $\\mathbf{T}$.\n",
    "\n",
    "`n` is the number of training examples. `m` is the number of weights. Expect $\\mathbf{X}$ to be a matrix containing the training examples with dimensions `(m,n)` and $\\mathbf{T}$ containing the targets for each example, a vector with length `n`.\n",
    "\n",
    "It should train for 10 epochs (iterations over all training examples). Make use of `np.random.permutation` to avoid that you are always iterating over the examples in the same order. \n",
    "\n",
    "For now only implement ```perceptron_train(X, T, num_epochs)```. We will call and test it later. "
   ]
  },
  {
   "cell_type": "markdown",
   "metadata": {},
   "source": [
    "### Solution 4"
   ]
  },
  {
   "cell_type": "code",
   "execution_count": 41,
   "metadata": {
    "collapsed": true
   },
   "outputs": [],
   "source": [
    "def perceptron_train(X, T, num_epochs=10):\n",
    "    m, n = X.shape\n",
    "\n",
    "    # Initialize the right number of weights as zeros\n",
    "    w = np.zeros(m)\n",
    "    \n",
    "    # Loop over epochs\n",
    "    for i in range(num_epochs):\n",
    "\n",
    "        # Loop over all examples in random order\n",
    "        examples = np.random.permutation(X)\n",
    "        \n",
    "        for example,t in zip(examples.T,T):\n",
    "            #print examples\n",
    "            # Take an example  \n",
    "            # Compute the output of the perceptron\n",
    "            #example = example.T\n",
    "            output = compute_output(example,w)\n",
    "\n",
    "            # Update the weights of the perceptron\n",
    "            w = update_weights(w,example,output,t)\n",
    "\n",
    "    return w"
   ]
  },
  {
   "cell_type": "markdown",
   "metadata": {},
   "source": [
    "### Exercise 5: Testing (1.5 points)\n",
    "In addition to the training function, write a function `perceptron_test(X,w)` that computes and returns the outputs $\\mathbf{Y}$ for a given dataset $\\mathbf{X}$ and a perceptron given by its weights $\\mathbf{w}$. "
   ]
  },
  {
   "cell_type": "markdown",
   "metadata": {},
   "source": [
    "### Solution 5"
   ]
  },
  {
   "cell_type": "code",
   "execution_count": 42,
   "metadata": {
    "collapsed": true
   },
   "outputs": [],
   "source": [
    "def perceptron_test(X, w):\n",
    "    n = X.shape[1]\n",
    "    \n",
    "    # Create an output array Y that you use to store the perceptron outputs\n",
    "    Y = np.zeros(n)\n",
    "    \n",
    "    # Loop over the examples\n",
    "        # Take an example\n",
    "    for i,example in enumerate (X.T):\n",
    "        # Compute the output of the perceptron\n",
    "        Y[i]=compute_output(example,w)\n",
    "        \n",
    "    return Y"
   ]
  },
  {
   "cell_type": "markdown",
   "metadata": {},
   "source": [
    "### Exercise 6: OR (1 point)\n",
    "Use your functions to train and test a perceptron on the OR problem, given by input patterns $\\mathbf{X}$ and targets $\\mathbf{T}$. \n",
    "\n",
    "Print your trained perceptron's outputs $\\mathbf{Y}$ and the expected outputs $\\mathbf{T}$ for the OR problem  to check whether your perceptron has learned successfully. "
   ]
  },
  {
   "cell_type": "code",
   "execution_count": 43,
   "metadata": {
    "collapsed": true
   },
   "outputs": [],
   "source": [
    "# Inputs\n",
    "X = np.array([[-1, -1], [-1, 1], [1, -1], [1, 1]], dtype=\"float32\").T\n",
    "\n",
    "# Targets\n",
    "T = np.array([0, 1, 1, 1], dtype=\"float32\")"
   ]
  },
  {
   "cell_type": "code",
   "execution_count": 44,
   "metadata": {},
   "outputs": [
    {
     "data": {
      "text/plain": [
       "<matplotlib.text.Text at 0x7fa66696f890>"
      ]
     },
     "execution_count": 44,
     "metadata": {},
     "output_type": "execute_result"
    },
    {
     "data": {
      "image/png": "[encoded data removed]",
      "text/plain": [
       "<matplotlib.figure.Figure at 0x7fa666a28410>"
      ]
     },
     "metadata": {},
     "output_type": "display_data"
    }
   ],
   "source": [
    "# Plot data\n",
    "plt.figure()\n",
    "for i_example in range(X.shape[1]):\n",
    "    if T[i_example] == 1:\n",
    "        plt.plot(X[0, i_example], X[1, i_example], \"or\")\n",
    "    else:\n",
    "        plt.plot(X[0, i_example], X[1, i_example], \"ob\")\n",
    "plt.xlabel(\"x_1\")\n",
    "plt.ylabel(\"x_2\")\n",
    "plt.title(\"OR\")"
   ]
  },
  {
   "cell_type": "code",
   "execution_count": 45,
   "metadata": {
    "collapsed": true
   },
   "outputs": [],
   "source": [
    "# Add bias terms\n",
    "X = np.vstack((np.ones((1, X.shape[1])), X))"
   ]
  },
  {
   "cell_type": "markdown",
   "metadata": {},
   "source": [
    "### Solution 6"
   ]
  },
  {
   "cell_type": "code",
   "execution_count": 46,
   "metadata": {},
   "outputs": [
    {
     "name": "stdout",
     "output_type": "stream",
     "text": [
      "[ 0.  1.  1.  1.]\n",
      "[ 0.  1.  1.  1.]\n"
     ]
    }
   ],
   "source": [
    "# Train the perceptron\n",
    "weights = perceptron_train(X, T)\n",
    "\n",
    "# Apply the perceptron\n",
    "Y=perceptron_test(X, weights)\n",
    "\n",
    "# Print predictions and targets\n",
    "print Y\n",
    "print T\n"
   ]
  },
  {
   "cell_type": "markdown",
   "metadata": {},
   "source": [
    "### Exercise 7: AND (1 point)\n",
    "Train and test your perceptron on the AND problem, given by input patterns $\\mathbf{X}$ and targets $\\mathbf{T}$. \n",
    "\n",
    "Print your trained perceptron's outputs $\\mathbf{Y}$ and the expected outputs for the AND problem $\\mathbf{T}$ to check whether your perceptron has learned successfully. "
   ]
  },
  {
   "cell_type": "code",
   "execution_count": 47,
   "metadata": {
    "collapsed": true
   },
   "outputs": [],
   "source": [
    "# Inputs\n",
    "X = np.array([[-1, -1], [-1, 1], [1, -1], [1, 1]], dtype=\"float32\").T\n",
    "\n",
    "# Targets\n",
    "T = np.array([0, 0, 0, 1], dtype=\"float32\")"
   ]
  },
  {
   "cell_type": "code",
   "execution_count": 48,
   "metadata": {},
   "outputs": [
    {
     "data": {
      "text/plain": [
       "<matplotlib.text.Text at 0x7fa6668d0850>"
      ]
     },
     "execution_count": 48,
     "metadata": {},
     "output_type": "execute_result"
    },
    {
     "data": {
      "image/png": "[encoded data removed]",
      "text/plain": [
       "<matplotlib.figure.Figure at 0x7fa666900350>"
      ]
     },
     "metadata": {},
     "output_type": "display_data"
    }
   ],
   "source": [
    "# Plot data\n",
    "plt.figure()\n",
    "for i_example in range(X.shape[1]):\n",
    "    if T[i_example] == 1:\n",
    "        plt.plot(X[0, i_example], X[1, i_example], \"or\")\n",
    "    else:\n",
    "        plt.plot(X[0, i_example], X[1, i_example], \"ob\")\n",
    "plt.xlabel(\"x_1\")\n",
    "plt.ylabel(\"x_2\")\n",
    "plt.title(\"AND\")"
   ]
  },
  {
   "cell_type": "code",
   "execution_count": 49,
   "metadata": {
    "collapsed": true
   },
   "outputs": [],
   "source": [
    "# Add bias terms\n",
    "X = np.vstack((np.ones((1, X.shape[1])), X))"
   ]
  },
  {
   "cell_type": "markdown",
   "metadata": {},
   "source": [
    "### Solution 7"
   ]
  },
  {
   "cell_type": "code",
   "execution_count": 50,
   "metadata": {},
   "outputs": [
    {
     "name": "stdout",
     "output_type": "stream",
     "text": [
      "[ 0.  0.  0.  1.]\n",
      "[ 0.  0.  0.  1.]\n"
     ]
    }
   ],
   "source": [
    "# Train the perceptron\n",
    "weights = perceptron_train(X, T)\n",
    "\n",
    "# Apply the perceptron\n",
    "Y=perceptron_test(X, weights)\n",
    "\n",
    "# Print predictions and targets\n",
    "print Y\n",
    "print T\n"
   ]
  },
  {
   "cell_type": "markdown",
   "metadata": {},
   "source": [
    "### Exercise 8: XOR (1 point)\n",
    "Train and test your perceptron on the XOR problem, given by input patterns $\\mathbf{X}$ and targets $\\mathbf{T}$. \n",
    "\n",
    "Print your trained perceptron's outputs $\\mathbf{Y}$ and the expected outputs for the XOR problem $\\mathbf{T}$ to check whether your perceptron has learned successfully. "
   ]
  },
  {
   "cell_type": "code",
   "execution_count": 51,
   "metadata": {
    "collapsed": true
   },
   "outputs": [],
   "source": [
    "# Inputs\n",
    "X = np.array([[-1, -1], [-1, 1], [1, -1], [1, 1]], dtype=\"float32\").T\n",
    "\n",
    "# Targets\n",
    "T = np.array([0, 1, 1, 0], dtype=\"float32\")"
   ]
  },
  {
   "cell_type": "code",
   "execution_count": 52,
   "metadata": {},
   "outputs": [
    {
     "data": {
      "text/plain": [
       "<matplotlib.text.Text at 0x7fa6667ae850>"
      ]
     },
     "execution_count": 52,
     "metadata": {},
     "output_type": "execute_result"
    },
    {
     "data": {
      "image/png": "[encoded data removed]",
      "text/plain": [
       "<matplotlib.figure.Figure at 0x7fa6667ea810>"
      ]
     },
     "metadata": {},
     "output_type": "display_data"
    }
   ],
   "source": [
    "# Plot data\n",
    "plt.figure()\n",
    "for i_example in range(X.shape[1]):\n",
    "    if T[i_example] == 1:\n",
    "        plt.plot(X[0, i_example], X[1, i_example], \"or\")\n",
    "    else:\n",
    "        plt.plot(X[0, i_example], X[1, i_example], \"ob\")\n",
    "plt.xlabel(\"x_1\")\n",
    "plt.ylabel(\"x_2\")\n",
    "plt.title(\"XOR\")"
   ]
  },
  {
   "cell_type": "code",
   "execution_count": 53,
   "metadata": {
    "collapsed": true
   },
   "outputs": [],
   "source": [
    "# Add bias terms\n",
    "X = np.vstack((np.ones((1, X.shape[1])), X))"
   ]
  },
  {
   "cell_type": "markdown",
   "metadata": {},
   "source": [
    "### Solution 8"
   ]
  },
  {
   "cell_type": "code",
   "execution_count": 54,
   "metadata": {},
   "outputs": [
    {
     "name": "stdout",
     "output_type": "stream",
     "text": [
      "[ 1.  1.  1.  1.]\n",
      "[ 0.  1.  1.  0.]\n"
     ]
    }
   ],
   "source": [
    "# Train the perceptron\n",
    "weights = perceptron_train(X, T)\n",
    "\n",
    "# Apply the perceptron\n",
    "Y=perceptron_test(X, weights)\n",
    "\n",
    "# Print predictions and targets\n",
    "print Y\n",
    "print T\n"
   ]
  },
  {
   "cell_type": "markdown",
   "metadata": {},
   "source": [
    "### Exercise 9: Interpretation (1 point)"
   ]
  },
  {
   "cell_type": "markdown",
   "metadata": {},
   "source": [
    "1. Which of the three problems OR, AND and XOR did the perceptron learn, and which did it not learn?\n",
    "1. Which property do the patterns in $\\mathbf{X}$ need to have so that the perceptron can learn them? \n",
    "1. Which of the three problems do or do not have this property?"
   ]
  },
  {
   "cell_type": "markdown",
   "metadata": {},
   "source": [
    "### Solution 9"
   ]
  },
  {
   "cell_type": "markdown",
   "metadata": {},
   "source": [
    "1. It learned AND and OR, but not XOR\n",
    "1. The pattern needs to be linearly separable\n",
    "1. XOR is not linearly separable, which is why it cannot be learned by a single perceptron"
   ]
  },
  {
   "cell_type": "code",
   "execution_count": null,
   "metadata": {
    "collapsed": true
   },
   "outputs": [],
   "source": []
  }
 ],
 "metadata": {
  "anaconda-cloud": {},
  "kernelspec": {
   "display_name": "Python 2",
   "language": "python",
   "name": "python2"
  },
  "language_info": {
   "codemirror_mode": {
    "name": "ipython",
    "version": 2
   },
   "file_extension": ".py",
   "mimetype": "text/x-python",
   "name": "python",
   "nbconvert_exporter": "python",
   "pygments_lexer": "ipython2",
   "version": "2.7.13"
  }
 },
 "nbformat": 4,
 "nbformat_minor": 1
}
