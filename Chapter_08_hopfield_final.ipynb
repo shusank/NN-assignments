{
 "cells": [
  {
   "cell_type": "markdown",
   "metadata": {},
   "source": [
    "# Chapter 8\n",
    "## Hopfield networks\n",
    "\n",
    "#### Daniel Anthes s4767799\n",
    "\n",
    "#### Edwin Wenink s4156072\n",
    "\n",
    "#### Samarpan Rai s4753763\n",
    "\n",
    "    Hand-in bug-free (try \"Kernel\" > \"Restart & Run All\") and including all (textual as well as figural) output via Blackboard before the deadline (see Blackboard).\n",
    "\n",
    "Learning goals:\n",
    "1. Get familiar with energy functions and with updating Hopfield networks by hand\n",
    "1. Implement a Hopfield network that fulfills a constraint\n",
    "1. Implement, train and test a Hopfield network on images"
   ]
  },
  {
   "cell_type": "code",
   "execution_count": 14,
   "metadata": {},
   "outputs": [],
   "source": [
    "%matplotlib inline\n",
    "import matplotlib.pyplot as plt\n",
    "import matplotlib.image as mpimg\n",
    "import numpy as np\n",
    "import urllib2\n",
    "import scipy.misc as sp\n",
    "import skimage as ski"
   ]
  },
  {
   "cell_type": "markdown",
   "metadata": {},
   "source": [
    "### Exercise 1: Flip-flop  (2 points)\n",
    "Consider a Hopfield network consisting of two variables $x_1$ and $x_2$ with thresholds $\\theta_1 = 0.5$ and $\\theta_2 = 0.5$, and a weight $w_{ij} = -1$. This network implements a so-called flip-flop. \n",
    "1. What is the energy function of this network? *(Write down the standard form of $E(\\mathbf{x})$, insert the values and simplify it.)*\n",
    "1. What are the possible energy levels of this network? *(Given the possible state combinations for $x_1$ and $x_2$ in a Hopfield network, which values can $E(\\mathbf{x})$ have?)*\n",
    "1. What are the stable states of this network?"
   ]
  },
  {
   "cell_type": "markdown",
   "metadata": {},
   "source": [
    "### Solution 1\n",
    "1. $$E(x) = - \\frac{1}{2} \\sum\\limits_{i,j} w_{ij}x_{i}x_{j} - \\sum\\limits_{i} \\theta_{i}x_{i}$$\n",
    "$$ E(x) = \\frac{1}{2} x_{1} x_{2} - \\frac{1}{2} x_{1} - \\frac{1}{2} x_{2} $$\n",
    "$$ = \\frac{1}{2}(x_{1} x_{2} - x_{1} - x_{2})$$\n",
    "1. Consider the following four scenarios. We see that the network has two possible energy levels, 0 and -1/2:\n",
    "\n",
    "##### 1: {0,0}\n",
    "\n",
    "$$ E(x) = \\frac{1}{2}( 0 \\cdot 0 - 0 - 0) = 0$$\n",
    "\n",
    "\n",
    "##### 2: {0,1}\n",
    "\n",
    "$$ E(x) = \\frac{1}{2}(0 \\cdot 1 - 0 - 1) = -\\frac{1}{2}$$\n",
    "\n",
    "##### 3: {1,0}\n",
    "\n",
    "$$ E(x) = \\frac{1}{2}(1 \\cdot 0 - 1 - 0) = -\\frac{1}{2} $$\n",
    "\n",
    "##### 4: {1,1}\n",
    "\n",
    "$$ E(x) = \\frac{1}{2}(1 \\cdot 1 - 1 - 1) = -\\frac{1}{2} $$\n",
    "\n",
    "\n",
    "\n",
    "\n",
    "1. Question 3: A local minimum of the energy function determines a stable state. We have three local minima in scenarios 2,3,4, so they are stable states."
   ]
  },
  {
   "cell_type": "markdown",
   "metadata": {},
   "source": [
    "### Exercise 2: Hopfield net\n",
    "Consider a Hopfield network with weights\n",
    "\\begin{equation}\n",
    "\\mathbf{W} =\n",
    "\\left[\n",
    "\\begin{array}{llll}\n",
    "0 & -0.2 & -0.4 & 0\\\\\n",
    "-0.2 & 0 & 0.5 & 0.3\\\\\n",
    "-0.4 & 0.5 & 0 & 0.8\\\\\n",
    "0 & 0.3 & 0.8 & 0\n",
    "\\end{array}\n",
    "\\right]\n",
    "\\end{equation}\n",
    "and biases\n",
    "$\\boldsymbol{\\theta} = (-0.5,-0.3,-0.8,0.2)$.\n",
    "1. What is the state of the Hopfield network after one sequential update of the first, second, third and fourth node when we start at the initial node state $\\mathbf{x} = (0,1,1,1)$?\n",
    "\n",
    "\n",
    "1. What do you conclude from your observation?\n",
    "\n"
   ]
  },
  {
   "cell_type": "markdown",
   "metadata": {},
   "source": [
    "### Solution 2  (1 point)\n",
    "1. \n",
    "Update of $x_1$: -0.4 -0.2 -0.5=-1.1 which is $<0$, so therefore $x_1$ stays inactive.\n",
    "Update of $x_2$: 0.5+0.3-0.3=0.5, which is $>0$ so $x_2$ stays active.\n",
    "Update of $x_3$: 0.5 + 0.8 - 0.8 = 0.5, which is $>0$, so $x_3$ stays active.\n",
    "Update of $x_4$: 0.8 + 0.3 + 0.2 = 1.3, which is $>0$, so $x_4$ stays active.\n",
    "1. \n",
    "In conclusion, since none of the states change, we conclude we are in a stable state."
   ]
  },
  {
   "cell_type": "markdown",
   "metadata": {},
   "source": [
    "### Exercise 3 : A Hopfield network that fulfills a constraint (2 points)\n",
    "\n",
    "In this exercise you will run a Hopfield model that converges to a state that fulfills a constraint. \n",
    "\n",
    "1. Implement a function `optimize(n)` which returns a length `n` vector of node states. The constraint it should solve is that all nodes should be set to `0`, except for a single random node set to `1`.\n",
    "1. Show that your function works for different values of `n`.\n",
    "\n",
    "Start from random node states. Choose and implement the necessary weights and biases manually (i.e. you do not train the Hopfield network here). The resulting vector should be the configuration of the network when it has converged to a stable state. Make sure that your implementation fulfills all requirements for Hopfield networks to converge to stable states."
   ]
  },
  {
   "cell_type": "markdown",
   "metadata": {},
   "source": [
    "### Solution 3"
   ]
  },
  {
   "cell_type": "code",
   "execution_count": 15,
   "metadata": {},
   "outputs": [],
   "source": [
    "\n",
    "# The optimization function\n",
    "\n",
    "def energy_func(nodes):\n",
    "    sum1 = nodes.sum() - 1\n",
    "    return sum1**2\n",
    "\n",
    "def activation_func(act, thresh):\n",
    "    return 1 if act >= thresh else 0\n",
    "\n",
    "def optimize(n):\n",
    "    vector = np.random.randint(0,2,n)\n",
    "    print \"starting vector \", vector\n",
    "    while not energy_func(vector) == 0:\n",
    "        for i,n1 in enumerate(vector):\n",
    "            activation = 0\n",
    "            for j,n2 in enumerate(vector):\n",
    "                if not i == j:\n",
    "                    activation += -2*n2\n",
    "            vector[i] = activation_func(activation,0)\n",
    "    return vector"
   ]
  },
  {
   "cell_type": "code",
   "execution_count": 16,
   "metadata": {},
   "outputs": [
    {
     "name": "stdout",
     "output_type": "stream",
     "text": [
      "starting vector  [1 1 0 1 1 0 0 1 0 1]\n",
      "final vector [0 0 0 0 0 0 0 0 0 1] \n",
      "\n",
      "starting vector  [1 1 1 0 1 0 1 0 0 1 1 1 0 1 0 1 0 1 0 1]\n",
      "final vector [0 0 0 0 0 0 0 0 0 0 0 0 0 0 0 0 0 0 0 1] \n",
      "\n",
      "starting vector  [1 0 0 0 0 0 1 0 1 0 1 1 1 0 0 0 1 0 0 1 1 1 1 0 1 1 0 0 1 1]\n",
      "final vector [0 0 0 0 0 0 0 0 0 0 0 0 0 0 0 0 0 0 0 0 0 0 0 0 0 0 0 0 0 1] \n",
      "\n"
     ]
    }
   ],
   "source": [
    "final_vec = optimize(10)\n",
    "print \"final vector\", final_vec,\"\\n\"\n",
    "\n",
    "final_vec = optimize(20)\n",
    "print \"final vector\", final_vec,\"\\n\"\n",
    "\n",
    "final_vec = optimize(30)\n",
    "print \"final vector\", final_vec,\"\\n\""
   ]
  },
  {
   "cell_type": "markdown",
   "metadata": {},
   "source": [
    "### Training a Hopfield network on given patterns\n",
    "\n",
    "You will now implement a Hopfield network that learns to reconstruct given images. Here you can *a) ignore the bias term*; and *b) use bipolar nodes*. \n",
    "\n",
    "The next cells load an image, resize it and store it together with a mirrored version of the same image in the variables `x1` and `x2`, which will be stacked in the training data `X`. These are your *input patterns*. "
   ]
  },
  {
   "cell_type": "code",
   "execution_count": 17,
   "metadata": {},
   "outputs": [
    {
     "name": "stderr",
     "output_type": "stream",
     "text": [
      "/home/daniel/anaconda3/envs/py27/lib/python2.7/site-packages/ipykernel_launcher.py:8: DeprecationWarning: `imresize` is deprecated!\n",
      "`imresize` is deprecated in SciPy 1.0.0, and will be removed in 1.2.0.\n",
      "Use ``skimage.transform.resize`` instead.\n",
      "  \n"
     ]
    }
   ],
   "source": [
    "# The source image\n",
    "f = urllib2.urlopen(\"https://homepages.cae.wisc.edu/~ece533/images/watch.png\")\n",
    "\n",
    "# Read the image\n",
    "x1 = mpimg.imread(f)\n",
    "\n",
    "# Make binary\n",
    "x1 = np.mean(sp.imresize(x1,10),2)\n",
    "x1[x1 < np.mean(x1.flatten())] = -1 # Black\n",
    "x1[x1 >= np.mean(x1.flatten())] = 1 # White\n",
    "x1.astype(\"int32\")\n",
    "\n",
    "# Make duplicate but mirrored second image\n",
    "x2 = np.fliplr(x1)\n",
    "\n",
    "# Flatten images\n",
    "sz = x1.shape\n",
    "X = np.stack((x1.flatten(), x2.flatten()), axis=1)"
   ]
  },
  {
   "cell_type": "code",
   "execution_count": 18,
   "metadata": {},
   "outputs": [
    {
     "data": {
      "image/png": "[encoded data removed]",
      "text/plain": [
       "<matplotlib.figure.Figure at 0x7f3cfcf5a790>"
      ]
     },
     "metadata": {},
     "output_type": "display_data"
    }
   ],
   "source": [
    "def plot (X):\n",
    "    fig, ax = plt.subplots(1, 2, figsize=(10, 5))\n",
    "\n",
    "    ax[0].imshow(X[:, 0].reshape(sz), cmap=\"gray\")\n",
    "    ax[0].set_xticks([], [])\n",
    "    ax[0].set_yticks([], [])\n",
    "    ax[0].set_title(\"x1\")\n",
    "\n",
    "    ax[1].imshow(X[:, 1].reshape(sz), cmap=\"gray\")\n",
    "    ax[1].set_xticks([], [])\n",
    "    ax[1].set_yticks([], [])\n",
    "    ax[1].set_title(\"x2\")\n",
    "    plt.show()\n",
    "\n",
    "plot(X)"
   ]
  },
  {
   "cell_type": "markdown",
   "metadata": {},
   "source": [
    "### Exercise 4: Hopfield training  (1 point)\n",
    "Write a function `hopfield_train(X)` which takes the $n$ *input patterns* `X` (shape $(m,n)$) as argument and returns the weight matrix `w` for a trained Hopfield network with $m$ nodes. Initialize the weights with zeros and then implement the learning rule for the weights. Again, make sure that your network fulfills the requirements for Hopfield network convergence. \n",
    "\n",
    "Note that you can write the weight update term per *input pattern* in a single line using the dot product. "
   ]
  },
  {
   "cell_type": "markdown",
   "metadata": {},
   "source": [
    "### Solution 4"
   ]
  },
  {
   "cell_type": "code",
   "execution_count": 19,
   "metadata": {},
   "outputs": [],
   "source": [
    "# Hopfield training\n",
    "\n",
    "def hopfield_train(X):\n",
    "    m, n = X.shape # (7752, 2)    \n",
    "    # Initialize weights\n",
    "    w = np.zeros((m,m))              \n",
    "    # Hebbian learning\n",
    "    w =  w + np.dot(X,X.T)\n",
    "    # Avoid self-connections (diagonal)\n",
    "    np.fill_diagonal(w,0)\n",
    "\n",
    "    return w"
   ]
  },
  {
   "cell_type": "markdown",
   "metadata": {},
   "source": [
    "### Exercise 5  (1 points)\n",
    "Write a function `hopfield_test(X, w, n_epochs)` which takes the $n$ initial states `Y` (shape $(m,n)$) and the learned weights `w` and updates all units in random order for `n_epochs` times (i.e., which \"runs\" your trained Hopfield network for `n_epochs` rounds). The return value should be the updated states `Y` of the Hopfield network. Make sure that your iteration fulfills the requirements for Hopfield network convergence."
   ]
  },
  {
   "cell_type": "markdown",
   "metadata": {},
   "source": [
    "### Solution 5"
   ]
  },
  {
   "cell_type": "code",
   "execution_count": 20,
   "metadata": {},
   "outputs": [],
   "source": [
    "# Hopfield testing\n",
    "def hopfield_test(X, w, n_epochs=10):\n",
    "    m,n = X.shape # (7752, 2)\n",
    "    Y = X.copy()\n",
    "    # Loop over epochs\n",
    "    for epoch_i in range(n_epochs):        \n",
    "        # Loop over examples\n",
    "        for ex_n in np.random.permutation(n):\n",
    "            # Loop over nodes\n",
    "            for node_m in np.random.permutation(m):\n",
    "                # Update node  \n",
    "                Y[node_m,ex_n] =  np.sign(np.dot(w[node_m],X[:,ex_n]))\n",
    "                      \n",
    "    return Y"
   ]
  },
  {
   "cell_type": "markdown",
   "metadata": {},
   "source": [
    "### Exercise 6  (1 points)\n",
    "Train your hopfield network on the two *input patterns* in `X` and save the weights. "
   ]
  },
  {
   "cell_type": "markdown",
   "metadata": {},
   "source": [
    "### Solution 6"
   ]
  },
  {
   "cell_type": "code",
   "execution_count": 21,
   "metadata": {},
   "outputs": [],
   "source": [
    "# Run hopfield training\n",
    "x_W = hopfield_train(X)"
   ]
  },
  {
   "cell_type": "markdown",
   "metadata": {},
   "source": [
    "### Exercise 7 (2 points)\n",
    "\n",
    "Test whether your trained Hopfield net can reconstruct the original images when starting from different degrees of corruption (which means randomly changing the pattern's node states). Make use of the function `corrupt_images` for this. \n",
    "\n",
    "1. Choose 4 degrees of corruption (between min: 10%, max: 100%) you want to test. Corrupt the original input images in `X` accordingly.  \n",
    "1. Run your trained Hopfield network with the corrupted images as input. It may not need to run for long time. \n",
    "1. For both patterns show the original, the corrupted and the reconstructed images next to each other. \n",
    "1. For each of the degrees of corruption, comment on what you see. "
   ]
  },
  {
   "cell_type": "code",
   "execution_count": 22,
   "metadata": {},
   "outputs": [],
   "source": [
    "def corrupt_images(X, percentage=25):\n",
    "    Xhat = X.copy()\n",
    "    n_pixels = int(X.shape[0]*percentage/100)\n",
    "    for i_example in range(X.shape[1]):\n",
    "        idx = np.random.permutation(X.shape[0])[:n_pixels]\n",
    "        Xhat[idx, i_example] = 2 * np.random.randint(0, 2, n_pixels) - 1\n",
    "    return Xhat"
   ]
  },
  {
   "cell_type": "markdown",
   "metadata": {},
   "source": [
    "### Solution 7"
   ]
  },
  {
   "cell_type": "code",
   "execution_count": 23,
   "metadata": {},
   "outputs": [
    {
     "name": "stdout",
     "output_type": "stream",
     "text": [
      "25% corruption\n",
      "Original\n"
     ]
    },
    {
     "data": {
      "image/png": "[encoded data removed]",
      "text/plain": [
       "<matplotlib.figure.Figure at 0x7f3cfcdbabd0>"
      ]
     },
     "metadata": {},
     "output_type": "display_data"
    },
    {
     "name": "stdout",
     "output_type": "stream",
     "text": [
      "Corrupted\n"
     ]
    },
    {
     "data": {
      "image/png": "[encoded data removed]",
      "text/plain": [
       "<matplotlib.figure.Figure at 0x7f3cfcce1890>"
      ]
     },
     "metadata": {},
     "output_type": "display_data"
    },
    {
     "name": "stdout",
     "output_type": "stream",
     "text": [
      "Reconstructed\n"
     ]
    },
    {
     "data": {
      "image/png": "[encoded data removed]",
      "text/plain": [
       "<matplotlib.figure.Figure at 0x7f3cfce30ad0>"
      ]
     },
     "metadata": {},
     "output_type": "display_data"
    }
   ],
   "source": [
    "# Corrupt images\n",
    "print('25% corruption')\n",
    "X_corrupted_25 = corrupt_images(X) #25% corruption\n",
    "# Test associative memory properties\n",
    "Y_corrupted_25 = hopfield_test(X_corrupted_25,x_W)\n",
    "# Plot results\n",
    "print('Original')\n",
    "plot(X)\n",
    "print('Corrupted')\n",
    "plot(X_corrupted_25)\n",
    "print('Reconstructed')\n",
    "plot(Y_corrupted_25)"
   ]
  },
  {
   "cell_type": "markdown",
   "metadata": {},
   "source": [
    "We see that with 25% corruption, we (as humans) can still recognize the original picture. The network perfectly reconstructs the original picture."
   ]
  },
  {
   "cell_type": "code",
   "execution_count": 24,
   "metadata": {},
   "outputs": [
    {
     "name": "stdout",
     "output_type": "stream",
     "text": [
      "50% corruption\n",
      "Original\n"
     ]
    },
    {
     "data": {
      "image/png": "[encoded data removed]",
      "text/plain": [
       "<matplotlib.figure.Figure at 0x7f3cfcc6f110>"
      ]
     },
     "metadata": {},
     "output_type": "display_data"
    },
    {
     "name": "stdout",
     "output_type": "stream",
     "text": [
      "Corrupted\n"
     ]
    },
    {
     "data": {
      "image/png": "[encoded data removed]",
      "text/plain": [
       "<matplotlib.figure.Figure at 0x7f3cfce99090>"
      ]
     },
     "metadata": {},
     "output_type": "display_data"
    },
    {
     "name": "stdout",
     "output_type": "stream",
     "text": [
      "Reconstructed\n"
     ]
    },
    {
     "data": {
      "image/png": "[encoded data removed]",
      "text/plain": [
       "<matplotlib.figure.Figure at 0x7f3cfcbdf250>"
      ]
     },
     "metadata": {},
     "output_type": "display_data"
    }
   ],
   "source": [
    "print('50% corruption')\n",
    "X_corrupted_50 = corrupt_images(X,percentage=50) \n",
    "# Test associative memory properties\n",
    "Y_corrupted_50 = hopfield_test(X_corrupted_50,x_W)\n",
    "# Plot results\n",
    "print('Original')\n",
    "plot(X)\n",
    "print('Corrupted')\n",
    "plot(X_corrupted_50)\n",
    "print('Reconstructed')\n",
    "plot(Y_corrupted_50)"
   ]
  },
  {
   "cell_type": "markdown",
   "metadata": {},
   "source": [
    "With 50% corruption, as humans we can recognize general shapes in the picture, but not much detail. The network however still perfectly reconstructs the picture."
   ]
  },
  {
   "cell_type": "code",
   "execution_count": 25,
   "metadata": {},
   "outputs": [
    {
     "name": "stdout",
     "output_type": "stream",
     "text": [
      "75% corruption\n",
      "Original\n"
     ]
    },
    {
     "data": {
      "image/png": "[encoded data removed]",
      "text/plain": [
       "<matplotlib.figure.Figure at 0x7f3cfcb84590>"
      ]
     },
     "metadata": {},
     "output_type": "display_data"
    },
    {
     "name": "stdout",
     "output_type": "stream",
     "text": [
      "Corrupted\n"
     ]
    },
    {
     "data": {
      "image/png": "[encoded data removed]",
      "text/plain": [
       "<matplotlib.figure.Figure at 0x7f3cfcf910d0>"
      ]
     },
     "metadata": {},
     "output_type": "display_data"
    },
    {
     "name": "stdout",
     "output_type": "stream",
     "text": [
      "Reconstructed\n"
     ]
    },
    {
     "data": {
      "image/png": "[encoded data removed]",
      "text/plain": [
       "<matplotlib.figure.Figure at 0x7f3cfcf19090>"
      ]
     },
     "metadata": {},
     "output_type": "display_data"
    }
   ],
   "source": [
    "print('75% corruption')\n",
    "X_corrupted_75 = corrupt_images(X,percentage=75) \n",
    "# Test associative memory properties\n",
    "Y_corrupted_75 = hopfield_test(X_corrupted_75,x_W)\n",
    "# Plot results\n",
    "print('Original')\n",
    "plot(X)\n",
    "print('Corrupted')\n",
    "plot(X_corrupted_75)\n",
    "print('Reconstructed')\n",
    "plot(Y_corrupted_75)"
   ]
  },
  {
   "cell_type": "markdown",
   "metadata": {},
   "source": [
    "For 75% corruption, we as humans do not recognize a clear object at all anymore in the corrupted image. The network is however still able to reconstruct the original picture."
   ]
  },
  {
   "cell_type": "code",
   "execution_count": 26,
   "metadata": {},
   "outputs": [
    {
     "name": "stdout",
     "output_type": "stream",
     "text": [
      "100% corruption\n",
      "Original\n"
     ]
    },
    {
     "data": {
      "image/png": "[encoded data removed]",
      "text/plain": [
       "<matplotlib.figure.Figure at 0x7f3cfcf19250>"
      ]
     },
     "metadata": {},
     "output_type": "display_data"
    },
    {
     "name": "stdout",
     "output_type": "stream",
     "text": [
      "Corrupted\n"
     ]
    },
    {
     "data": {
      "image/png": "[encoded data removed]",
      "text/plain": [
       "<matplotlib.figure.Figure at 0x7f3cfd13a650>"
      ]
     },
     "metadata": {},
     "output_type": "display_data"
    },
    {
     "name": "stdout",
     "output_type": "stream",
     "text": [
      "Reconstructed\n"
     ]
    },
    {
     "data": {
      "image/png": "[encoded data removed]",
      "text/plain": [
       "<matplotlib.figure.Figure at 0x7f3cfcb26f10>"
      ]
     },
     "metadata": {},
     "output_type": "display_data"
    }
   ],
   "source": [
    "print('100% corruption')\n",
    "X_corrupted_100 = corrupt_images(X,percentage=100) \n",
    "# Test associative memory properties\n",
    "Y_corrupted_100 = hopfield_test(X_corrupted_100,x_W)\n",
    "# Plot results\n",
    "print('Original')\n",
    "plot(X)\n",
    "print('Corrupted')\n",
    "plot(X_corrupted_100)\n",
    "print('Reconstructed')\n",
    "plot(Y_corrupted_100)"
   ]
  },
  {
   "cell_type": "markdown",
   "metadata": {},
   "source": [
    "With 100% corruption, the corrupted image looks like pure noise. The network is however still able to find the original picture perfectly, with one caveat: we see that with 100% corruption there is a chance the network reconstructs the right picture, but inverts the color. In other words, the network reaches a spurious inverted state."
   ]
  }
 ],
 "metadata": {
  "anaconda-cloud": {},
  "kernelspec": {
   "display_name": "Python 2",
   "language": "python",
   "name": "python2"
  },
  "language_info": {
   "codemirror_mode": {
    "name": "ipython",
    "version": 2
   },
   "file_extension": ".py",
   "mimetype": "text/x-python",
   "name": "python",
   "nbconvert_exporter": "python",
   "pygments_lexer": "ipython2",
   "version": "2.7.14"
  }
 },
 "nbformat": 4,
 "nbformat_minor": 2
}
